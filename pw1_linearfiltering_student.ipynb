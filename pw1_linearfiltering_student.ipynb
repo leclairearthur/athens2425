{
  "cells": [
    {
      "cell_type": "markdown",
      "metadata": {
        "id": "LSdL4I1p1sL_"
      },
      "source": [
        "# Practical Session 1. Linear filtering\n",
        "\n",
        "The goal of this first practical session is to understand and try out python functions for image processing, and to get acquainted with image processing libraries, especially scikit-image. We will first go over how to visualize an image and its histogram. Then, we will try to understand the frequential content of an image thanks to the two-dimensional Fourier transform. Finally we will try out different linear filterings of our images."
      ]
    },
    {
      "cell_type": "markdown",
      "metadata": {
        "id": "Dt1qobJW4Xeg"
      },
      "source": [
        "## Image loading and visualization\n",
        "\n",
        "In order to load and display images, we will use basic functions of scikit-image, numpy, and matplotlib. You can either use our images, or images that are stored in your Google Drive.\n",
        "\n",
        "To download our images, execute the following command :"
      ]
    },
    {
      "cell_type": "code",
      "execution_count": null,
      "metadata": {
        "id": "DsK3VeEsHsrQ"
      },
      "outputs": [],
      "source": [
        "#Dowmloading images\n",
        "!wget https://perso.telecom-paristech.fr/aleclaire/athens/imagesTP1.zip\n",
        "!unzip -qq imagesTP1.zip\n",
        "!rm imagesTP1.zip"
      ]
    },
    {
      "cell_type": "code",
      "execution_count": null,
      "metadata": {
        "id": "mY4FuUpt563-"
      },
      "outputs": [],
      "source": [
        "import matplotlib.pyplot as plt\n",
        "import skimage.io as skio\n",
        "import skimage\n",
        "import numpy as np\n",
        "import numpy.fft as fft"
      ]
    },
    {
      "cell_type": "markdown",
      "metadata": {
        "id": "gvr-8Ntj7z5t"
      },
      "source": [
        "To visualize and load an image, you will use the function imread from skio. You can either load it in RGB or in greyscale."
      ]
    },
    {
      "cell_type": "code",
      "execution_count": null,
      "metadata": {
        "id": "nvOxJ8BE6Lw1"
      },
      "outputs": [],
      "source": [
        "path = \"imagesTP1/zebres.tif\"\n",
        "image_rgb = skio.imread(path)\n",
        "print(\"rgb image shape : \"+str(image_rgb.shape))\n",
        "plt.rcParams['figure.figsize'] = [9, 9] #control the size of the figure\n",
        "plt.imshow(image_rgb)\n",
        "plt.show()\n",
        "\n",
        "plt.rcParams['figure.figsize'] = [9, 9] #control the size of the figure\n",
        "path = \"imagesTP1/montreuil.tif\"\n",
        "image_gs = skio.imread(path,as_gray=True) #the default value for as_gray is False\n",
        "print(\"gray image shape : \"+str(image_gs.shape))\n",
        "plt.imshow(image_gs, cmap = \"gray\")\n",
        "plt.show()"
      ]
    },
    {
      "cell_type": "markdown",
      "metadata": {
        "id": "4NFSrLD9FCMc"
      },
      "source": [
        "## Fourier Domain\n",
        "The Fourier Transform of an image allows us to analyze the frequential content of an image, by going from the spatial domain to the frequential domain.\n",
        "To compute the 2D Fourier transform of a grayscale image, we will use the fft2() function of the numpy.fft library.\n",
        "\n",
        "To display the Fourier transform centered on the (0,0) component, we will use\n",
        "the fft.fftshift() to the Fourier transform."
      ]
    },
    {
      "cell_type": "code",
      "execution_count": null,
      "metadata": {
        "id": "O1LZaFn9Gh6G"
      },
      "outputs": [],
      "source": [
        "# load the image and compute the fft\n",
        "img = skio.imread(\"imagesTP1/montreuil.tif\")\n",
        "image_fft = fft.fftshift(fft.fft2(img))"
      ]
    },
    {
      "cell_type": "markdown",
      "metadata": {
        "id": "CaegZjbGLwAN"
      },
      "source": [
        "Let's visualize the modulus of the Fourier transform by applying the log(abs(x)+0.1) to the FFT. (Remember, the Fourier transform is a complex number!)"
      ]
    },
    {
      "cell_type": "code",
      "execution_count": null,
      "metadata": {
        "id": "pTCBgQPoGxJr"
      },
      "outputs": [],
      "source": [
        "# Visualize the Fourier transform\n",
        "modfft = ...\n",
        "\n",
        "fig, axs = plt.subplots(1, 2, figsize=(20,20))\n",
        "axs[0].imshow(img, cmap='gray')\n",
        "axs[1].imshow(modfft, cmap='gray')\n",
        "plt.show()"
      ]
    },
    {
      "cell_type": "markdown",
      "metadata": {
        "id": "S75bJ470Kn3u"
      },
      "source": [
        "Questions :\n",
        "- **Q**: why is important to visualize the logarithm of the Fourier Transform?\n",
        "- **Answer** : ...\n",
        "- **Q** Explain the different lines and peaks in the FFT in relation to the image content.\n",
        "- **Answer** : ...\n",
        "\n",
        "Let us look at the phase of the image.\n"
      ]
    },
    {
      "cell_type": "code",
      "execution_count": null,
      "metadata": {
        "colab": {
          "base_uri": "https://localhost:8080/",
          "height": 640
        },
        "id": "OY_HTASdJ6ZE",
        "outputId": "bf9c53ea-01d2-43ad-fcc0-3071b2955738"
      },
      "outputs": [],
      "source": [
        "# we use np.angle to retrieve the complex argument\n",
        "phifft = ...\n",
        "fig, axs = plt.subplots(1, 2, figsize=(20,20))\n",
        "axs[0].imshow(img, cmap='gray')\n",
        "axs[1].imshow(phifft, cmap = \"gray\")\n",
        "plt.show()"
      ]
    },
    {
      "cell_type": "markdown",
      "metadata": {
        "id": "pznZmrtXYjVQ"
      },
      "source": [
        "- **Q** : Can we easily interpret something from this image?\n",
        "- **Answer**:...\n"
      ]
    },
    {
      "cell_type": "markdown",
      "metadata": {
        "id": "SLe9qJbkZ3aU"
      },
      "source": [
        "## Image Sampling\n",
        "\n",
        "Images can be very large and thus use a lot of memory. It is sometimes needed to smallen those images using a sub-sampling technique. However, when done unproperly, the sub-sampled image can present artifacts. Thanks to the Fourier transform, we will understand what is the underlying problem."
      ]
    },
    {
      "cell_type": "code",
      "execution_count": null,
      "metadata": {
        "id": "6ma0-jvRNCg3"
      },
      "outputs": [],
      "source": [
        "# subsampling the image\n",
        "img_subsampled = ...\n",
        "print(\"image shape : \"+str(img.shape))\n",
        "print(\"subsampled image shape : \"+str(img_subsampled.shape))\n",
        "\n",
        "#visualize the images\n",
        "fig, axs = plt.subplots(1, 2, figsize=(15,15))\n",
        "axs[0].imshow(img, cmap='gray')\n",
        "axs[0].set_title(\"original image\")\n",
        "axs[1].imshow(img_subsampled, cmap='gray')\n",
        "axs[1].set_title(\"sub-sampled image\")\n",
        "plt.show()\n"
      ]
    },
    {
      "cell_type": "markdown",
      "metadata": {
        "id": "0idiFMmMQbPO"
      },
      "source": [
        "- **Q**: Describe the visual artifacts you see in the sub-sampled image\n",
        "- **A** : ...\n",
        "\n",
        "Let's compare the Fourier Transform of the subsampled image to the one of the original image:"
      ]
    },
    {
      "cell_type": "code",
      "execution_count": null,
      "metadata": {
        "id": "lip8bR9zQXPX"
      },
      "outputs": [],
      "source": [
        "##compute the modulus\n",
        "modfft_sub = ...\n",
        "\n",
        "##visualize the two images\n",
        "fig, axs = plt.subplots(1, 2, figsize=(10,10))\n",
        "axs[0].imshow(modfft, cmap='gray')\n",
        "axs[0].set_title(\"original spectrum\")\n",
        "axs[1].imshow(modfft_sub, cmap='gray')\n",
        "axs[1].set_title(\"subsampled image spectrum\")\n",
        "plt.show()"
      ]
    },
    {
      "cell_type": "markdown",
      "metadata": {
        "id": "TOL4KbLnTJ-m"
      },
      "source": [
        "- **Q** : What is the phenomenon we observe ? How can you explain it ?\n",
        "- **A** : ...\n",
        "- **Q** : Can you think of a solution to solve this problem ?\n",
        "- **A** : ..."
      ]
    },
    {
      "cell_type": "markdown",
      "metadata": {
        "id": "iRSXWr0TT5Bv"
      },
      "source": [
        "## Low pass Filtering\n",
        "\n",
        "In order to smooth or to denoise an image, a very simple way is to apply a local mean filtering. In order to do that, we would convolve the image with a uniform kernel :\n",
        "$$k = \\frac{1}{25}\\times\\mathbb{1}_{(5,5)}$$\n",
        "\n",
        "$$I_{smooth} = k*I$$\n",
        "\n",
        "Let's build this filter and observe its Fourier transform, in a larger image. Create a binary image of size (512,512) with the filter at its center, and visualize its Fourier Transform."
      ]
    },
    {
      "cell_type": "code",
      "execution_count": null,
      "metadata": {
        "id": "c-aCYrocqVAh"
      },
      "outputs": [],
      "source": [
        "kernel = ...\n",
        "larger_image = ...\n",
        "kernel_fft = ...\n",
        "\n",
        "plt.title(\"Fourier Transform of the Mean Filter\")\n",
        "plt.imshow(kernel_fft, cmap = \"gray\")\n",
        "plt.show()"
      ]
    },
    {
      "cell_type": "markdown",
      "metadata": {
        "id": "MwezZHHtYJhe"
      },
      "source": [
        "- **Q**: Does that image matches your prediction ?\n",
        "- **A**:\n",
        "\n",
        "Let's apply this filter to the image using the scipy.signal.convolve2d() function."
      ]
    },
    {
      "cell_type": "code",
      "execution_count": null,
      "metadata": {
        "id": "ffYmas2CX49I"
      },
      "outputs": [],
      "source": [
        "from scipy.signal import convolve2d\n",
        "# filtered image\n",
        "img_filtered =  ...\n",
        "\n",
        "#visualize images\n",
        "fig, axs = plt.subplots(1, 2, figsize=(15,15))\n",
        "axs[0].imshow(img, cmap='gray')\n",
        "axs[0].set_title(\"original image\")\n",
        "axs[1].imshow(img_filtered, cmap='gray')\n",
        "axs[1].set_title(\"filtered image\")\n",
        "plt.show()"
      ]
    },
    {
      "cell_type": "markdown",
      "metadata": {
        "id": "NMIrblEwZ0xt"
      },
      "source": [
        "- **Q**: What is the aspect of this image ?\n",
        "- **A**:...\n",
        "\n",
        "\n",
        " Let's visualize the FFT of the filtered image."
      ]
    },
    {
      "cell_type": "code",
      "execution_count": null,
      "metadata": {
        "id": "EUNHWx3YZuy-"
      },
      "outputs": [],
      "source": [
        "##compute the modulus\n",
        "modfft_f = ...\n",
        "\n",
        "##visualize the two images\n",
        "fig, axs = plt.subplots(1, 2, figsize=(15,15))\n",
        "axs[0].imshow(modfft, cmap='gray')\n",
        "axs[0].set_title(\"original spectrum\")\n",
        "axs[1].imshow(modfft_f, cmap='gray')\n",
        "axs[1].set_title(\"filtered image spectrum\")\n",
        "plt.show()"
      ]
    },
    {
      "cell_type": "markdown",
      "metadata": {
        "id": "yEg60qiibuh6"
      },
      "source": [
        "- **Q** : Does this FFT image follows its predicted value ? (Explain your reasoning)\n",
        "- **A** : ..."
      ]
    },
    {
      "cell_type": "markdown",
      "metadata": {
        "id": "DqCkug79K3hu"
      },
      "source": [
        "To illustrate the interest of low-pass filtering, we will apply it to a \"noisy\" image. In this PW, we will simply add noise to the image and create a noisy image."
      ]
    },
    {
      "cell_type": "code",
      "execution_count": null,
      "metadata": {
        "id": "prxNcy6iahQk"
      },
      "outputs": [],
      "source": [
        "def add_gaussian_noise(img_in,sigma_noise = 50):\n",
        "  gaussian_noise = ...\n",
        "  img_out = ...\n",
        "  #clip output\n",
        "  img_out = np.clip(img_out,0.0,255.0)\n",
        "  return img_out\n",
        "\n",
        "noisy_image = ...\n",
        "\n",
        "filtered_image = ...\n",
        "\n",
        "## display the noisy image, the filtered image and the original image\n",
        "    #visualize images\n",
        "fig, axs = plt.subplots(1, 2, figsize=(15,15))\n",
        "axs[0].imshow(noisy_image, cmap='gray')\n",
        "axs[0].set_title(\"original image\")\n",
        "axs[1].imshow(filtered_image, cmap='gray')\n",
        "axs[1].set_title(\"filtered image\")\n",
        "plt.show()"
      ]
    },
    {
      "cell_type": "markdown",
      "metadata": {
        "id": "kUFFejvBWMfS"
      },
      "source": [
        "**Q :** Does this low pass filtering reduce the influence of the noise? Could you think of another kernel to apply a low pass filter?\n",
        "\n",
        "**A :**\n",
        "\n",
        "**Q :** How are the edges affected by this filtering ? Do you think that a median filter would be better?\n",
        "\n",
        "**A :**\n",
        "\n"
      ]
    },
    {
      "cell_type": "code",
      "execution_count": null,
      "metadata": {
        "id": "8HSbzcHvYn3T"
      },
      "outputs": [],
      "source": [
        "### Your time to code!\n",
        "filtered_image_subsampled = ..convolve2d(img, kernel, mode = \"valid\")[::2,::2]\n",
        "\n",
        "fig, axs = plt.subplots(1, 2, figsize=(15,15))\n",
        "axs[0].imshow(img_subsampled, cmap='gray')\n",
        "axs[0].set_title(\"subsampled image\")\n",
        "axs[1].imshow(filtered_image_subsampled, cmap='gray')\n",
        "axs[1].set_title(\"subsampled filtered image\")\n",
        "plt.show()"
      ]
    },
    {
      "cell_type": "markdown",
      "metadata": {
        "id": "7SHjTSkgyZPG"
      },
      "source": [
        "## Contour detection with Prewitt filtering\n",
        "\n",
        "A simple way to detect contours in images is to apply a high pass filter to our image. In this section we will implement a simple Prewitt filter.\n",
        "\n",
        "The Prewitt filter convolves the kernel  $K = \\begin{pmatrix}\n",
        "-1 & 0 & 1\\\\\n",
        "-1 & 0 & 1 \\\\\n",
        "-1 & 0 & 1 \\\\\n",
        "\\end{pmatrix} $ to the image for the horizontal filtering, and its transpose for the vertical filtering. The filtering formula is the following :  $$ y = \\frac{1}{2}(K*x + K^T*x).$$\n",
        "Let's implement this filter and visualize it's results."
      ]
    },
    {
      "cell_type": "code",
      "execution_count": null,
      "metadata": {
        "id": "VM1bbBTzLTjC"
      },
      "outputs": [],
      "source": [
        "\n",
        "def prewitt_filtering(img):\n",
        "  if student :\n",
        "    kernel = ...\n",
        "    img_filtered_hor = ...\n",
        "    img_filtered_ver = ...\n",
        "    img_filtered = ...\n",
        "  else :\n",
        "    kernel = np.ones((3,1)).dot(np.array([[-1,0,1]]))\n",
        "    img_filtered_hor = convolve2d(img, kernel, mode = \"valid\")\n",
        "    img_filtered_ver = convolve2d(img, kernel.T, mode = \"valid\")\n",
        "    img_filtered = (img_filtered_hor+img_filtered_ver)/2.\n",
        "  return(img_filtered)\n",
        "\n",
        "filtered_img = prewitt_filtering(img)\n",
        "\n",
        "plt.imshow(filtered_img, cmap = \"gray\")\n",
        "plt.show()"
      ]
    }
  ],
  "metadata": {
    "colab": {
      "provenance": []
    },
    "kernelspec": {
      "display_name": "Python 3 (ipykernel)",
      "language": "python",
      "name": "python3"
    },
    "language_info": {
      "codemirror_mode": {
        "name": "ipython",
        "version": 3
      },
      "file_extension": ".py",
      "mimetype": "text/x-python",
      "name": "python",
      "nbconvert_exporter": "python",
      "pygments_lexer": "ipython3",
      "version": "3.11.4"
    }
  },
  "nbformat": 4,
  "nbformat_minor": 0
}