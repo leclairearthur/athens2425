{
  "cells": [
    {
      "cell_type": "markdown",
      "metadata": {
        "id": "2IEkCLc4y1mh"
      },
      "source": [
        "# Practical Work 3: Histogram manipulation, Color spaces\n",
        "\n",
        "<br/><br/>\n",
        "\n",
        "In this third practical session,  we will first handle greyscale histograms to do histogram equalization, histogram transfer and other simple operations. We will manipulate color images and display a color distribution. Finally, we will try some simple classification algorithms.\n",
        "\n",
        "<br/><br/>"
      ]
    },
    {
      "cell_type": "code",
      "execution_count": null,
      "metadata": {
        "id": "IuLinlQPsneb"
      },
      "outputs": [],
      "source": [
        "#Dowmloading images\n",
        "!wget https://perso.telecom-paristech.fr/aleclaire/athens/imagesTP3.zip\n",
        "!unzip -qq imagesTP3.zip"
      ]
    },
    {
      "cell_type": "code",
      "execution_count": null,
      "metadata": {
        "id": "rTR2N_QhzqPU"
      },
      "outputs": [],
      "source": [
        "## imports\n",
        "import matplotlib.pyplot as plt\n",
        "import skimage.io as skio\n",
        "import skimage\n",
        "import numpy as np\n",
        "from mpl_toolkits.mplot3d import Axes3D\n",
        "from sklearn.cluster import KMeans\n",
        "from sklearn.utils import shuffle"
      ]
    },
    {
      "cell_type": "markdown",
      "metadata": {
        "id": "14Y0961-xSh7"
      },
      "source": [
        "## Histogram equalization\n",
        "In order to increase the dynamic of an image, and to increase its contrast, a simple tool is histogram equalization. The idea of histogram equalization is to modify the pixel values so that the resulting image has a linear cumulative distribution function, which amounts to the cumulation of the histogram.\n",
        "\n",
        "First, let's load the image \"lena.tif\", visualize it in greyscale and plot its histogram."
      ]
    },
    {
      "cell_type": "code",
      "execution_count": null,
      "metadata": {
        "id": "e5y9_XBkxa4h"
      },
      "outputs": [],
      "source": [
        "img = skio.imread(\"imagesTP3/lena.tif\") # //2+256//4\n",
        "histogram = skimage.exposure.histogram(img, 256)\n",
        "\n",
        "plt.imshow(img, cmap = \"gray\")\n",
        "plt.show()\n",
        "plt.bar(histogram[1],histogram[0], width = 1)\n",
        "plt.show()"
      ]
    },
    {
      "cell_type": "markdown",
      "metadata": {
        "id": "kiHxWvZixb6j"
      },
      "source": [
        "Here is the algorithm for histogram equalization :\n",
        "- flatten the image\n",
        "- compute the cumulative distribution function (CDF) of your image and the bins using the skimage.exposure.cumulative_distribution() function\n",
        "- interpolate the values of the new pixels using the previous CDF, using np.interp()\n",
        "- reshape the flat vector into an image\n",
        "\n",
        "- **Q** :  Fill in the following code. Visualize the two images. What is the effect created on the image ? Visualize the cumulative distribution functions of the original and equalized image, to check if your equalization worked.\n",
        "- **A** : ...\n",
        "- **Q** : Visualize the histogram of the resulting image. What do you observe ?\n",
        "- **A** :"
      ]
    },
    {
      "cell_type": "code",
      "execution_count": null,
      "metadata": {
        "id": "KsEwwEcfxg8T"
      },
      "outputs": [],
      "source": [
        "...\n",
        "new_image = ...\n",
        "\n",
        "# visualize the images\n",
        "fig,ax = plt.subplots(1,2,figsize = (10,10))\n",
        "ax[0].imshow(img, cmap = \"gray\",vmin=0,vmax=255)\n",
        "ax[0].set_title(\"original image\")\n",
        "ax[1].imshow(new_image, cmap = \"gray\",vmin=0,vmax=255)\n",
        "ax[1].set_title(\"equalized image\")\n",
        "plt.show()\n",
        "\n",
        "# Compare the histogram and CDF of the original and equalized image.\n",
        "...\n"
      ]
    },
    {
      "cell_type": "markdown",
      "metadata": {
        "id": "Vg4Db5fgxzTm"
      },
      "source": [
        "## Histogram Transfer\n",
        "\n",
        "Another interesting manipulation that we can is to transfer the histogram of a target image to the histogram of our source image. It can be done in color or greylevel. One funny application is to transfer color palettes between image paintings. Here, we will do a simple example on greyscale images.\n",
        "\n",
        "Here is the pseudo-code for that method :\n",
        "- flatten both images\n",
        "- get the indices of the sorted source image\n",
        "- change the values of the indexed pixels of the source image with the sorted pixels of the target image\n",
        "- reshape the resulting vector into an image\n",
        "\n",
        "Code the previous algorithm. Visualize the histogram of the resulting image and the histogram of the target image, to check if your algorithm works."
      ]
    },
    {
      "cell_type": "code",
      "execution_count": null,
      "metadata": {
        "id": "uUCEh_D0xn6c"
      },
      "outputs": [],
      "source": [
        "image_s = skio.imread(\"imagesTP3/lena.tif\")\n",
        "image_t = skio.imread(\"imagesTP3/bateau.tif\")\n",
        "\n",
        "...\n",
        "\n",
        "# Visualization\n",
        "fig,axs = plt.subplots(2,3,figsize = (15,10))\n",
        "axs[0,0].imshow(image_s,cmap = \"gray\")\n",
        "axs[0,1].imshow(image_t,cmap = \"gray\")\n",
        "axs[0,2].imshow(new_image,cmap = \"gray\")\n",
        "\n",
        "# compute histograms\n",
        "...\n",
        "\n",
        "axs[1,0].bar(histogram_s[1],histogram_s[0], width = 1)\n",
        "axs[1,1].bar(histogram_t[1],histogram_t[0], width = 1)\n",
        "axs[1,2].bar(histogram_new[1],histogram_new[0], width = 1)\n",
        "plt.show()\n"
      ]
    },
    {
      "cell_type": "code",
      "execution_count": null,
      "metadata": {
        "id": "KF8-pvgKri4K"
      },
      "outputs": [],
      "source": [
        "# second example of histogram transfer with simple binary images\n",
        "\n",
        "image_s = np.ones([5,5])\n",
        "image_s[:,:2]=0\n",
        "image_t = np.ones([5,5])\n",
        "image_t[:,:3]=0\n",
        "\n",
        "... # copy the completed code from the previous cell"
      ]
    },
    {
      "cell_type": "markdown",
      "metadata": {
        "id": "1gtYiXR-LbYC"
      },
      "source": [
        "## Color spaces\n",
        "\n",
        "In this section we will work with `fruits.tif` or `fleur.tif`."
      ]
    },
    {
      "cell_type": "code",
      "execution_count": null,
      "metadata": {
        "id": "CuxpkD_pAzAG"
      },
      "outputs": [],
      "source": [
        "# The following function allows to display the color distribution of an image as a point cloud.\n",
        "def colordistrib(imrgb,nb=3000,dpi=100):\n",
        "    X = imrgb.reshape((nrow*ncol,3))\n",
        "    idx = np.random.randint(X.shape[0], size=(nb,))\n",
        "    Xs = X[idx, :]/255.\n",
        "    fig = plt.figure(dpi=dpi)\n",
        "    axis = fig.add_subplot(1, 1, 1, projection=\"3d\")\n",
        "    axis.set_xlabel(\"Red\")\n",
        "    axis.set_ylabel(\"Green\")\n",
        "    axis.set_zlabel(\"Blue\")\n",
        "    axis.scatter(Xs[:, 0], Xs[:,1],Xs[:, 2],c=Xs, s=40)\n",
        "    plt.show()"
      ]
    },
    {
      "cell_type": "markdown",
      "metadata": {
        "id": "lpra0MOv2FTN"
      },
      "source": [
        "### RGB space\n",
        "\n",
        "In the following cell, you should load the image and display it in RGB, and with color channels separately.\n",
        "\n",
        "You should also use the provided function `colordistrib` to display the color distribution."
      ]
    },
    {
      "cell_type": "code",
      "execution_count": null,
      "metadata": {
        "id": "48tiiJQ_I_Q8"
      },
      "outputs": [],
      "source": [
        "imrgb =skio.imread(\"imagesTP3/fruits.tif\")\n",
        "\n",
        "# extract the three channels imred, imgreen, imblue from imrgb and normalize between 0 and 1\n",
        "...\n",
        "\n",
        "#image size\n",
        "[nrow,ncol,nch]=imrgb.shape\n",
        "fig, axes = plt.subplots(nrows=2, ncols=2, figsize=(10, 10))\n",
        "\n",
        "#we display the images\n",
        "axes[0, 0].imshow(imrgb)\n",
        "axes[0,0].set_title('Original image')\n",
        "axes[0, 1].imshow(imred, cmap=\"gray\")\n",
        "axes[0,1].set_title('red channel')\n",
        "axes[1, 0].imshow(imgreen, cmap=\"gray\")\n",
        "axes[1,0].set_title('green channel')\n",
        "axes[1, 1].imshow(imblue, cmap=\"gray\")\n",
        "axes[1,1].set_title('blue channel')\n",
        "fig.tight_layout()\n",
        "\n"
      ]
    },
    {
      "cell_type": "markdown",
      "metadata": {
        "id": "ujmmkLXdo-2D"
      },
      "source": [
        "It might be useful to convert the color image to graylevels. This can be done by averaging the three channels, or by computing another well chosen linear combination of the coordinates R, G and B. The convention for this linear combination is Y = 0.2125 R + 0.7154 G + 0.0721 B.\n",
        "Observe the difference between the simple average and this linear combination."
      ]
    },
    {
      "cell_type": "code",
      "execution_count": null,
      "metadata": {
        "id": "iyV5bTAeorMS"
      },
      "outputs": [],
      "source": [
        "...\n",
        "\n",
        "fig,ax = plt.subplots(1,2,figsize=(10, 10))\n",
        "ax[0].imshow(img_mean,cmap='gray')\n",
        "ax[1].imshow(img_lin,cmap='gray')\n",
        "fig.tight_layout()"
      ]
    },
    {
      "cell_type": "markdown",
      "metadata": {
        "id": "WxDD_ri5rRn4"
      },
      "source": [
        "### Opponent spaces\n",
        "Color opponent spaces are characterized by a channel representing an\n",
        "achromatic signal, as well as two channels encoding color\n",
        "opponency. The two chromatic channels generally represent an\n",
        "approximate red-green opponency and yellow- blue opponency.\n",
        "$$ O_1 = \\frac 1 {\\sqrt{2}} (R-G),\\;  O_2 =  \\frac 1 {\\sqrt{6}}\n",
        "(R+G-2B),\\; O_3 = \\frac 1 {\\sqrt{3}} (R+G+B)$$\n",
        "\n",
        "Display the $O_1$, $O_2$ and $O_3$ coordinates for different color images."
      ]
    },
    {
      "cell_type": "code",
      "execution_count": null,
      "metadata": {
        "id": "XWFnQiFhqVtZ"
      },
      "outputs": [],
      "source": [
        "...\n",
        "\n",
        "fig, axes = plt.subplots(nrows=1, ncols=3, figsize=(15, 10))\n",
        "axes[0].imshow(O1, cmap='gray')\n",
        "axes[0].set_title('O1')\n",
        "axes[1].imshow(O2, cmap='gray')\n",
        "axes[1].set_title('O2')\n",
        "axes[2].imshow(O3, cmap='gray')\n",
        "axes[2].set_title('O3')\n",
        "fig.tight_layout()"
      ]
    },
    {
      "cell_type": "markdown",
      "metadata": {
        "id": "LEl4StzMtC91"
      },
      "source": [
        "### HSV / HSL / HSI spaces (Hue, Saturation, Value / Luminance /Intensity)\n",
        "\n",
        "These color spaces are obtained by a non-linear transformation of the\n",
        "RGB coordinates into polar coordinates. The luminance (or value V)\n",
        "corresponds to the vertical axis of the cylinder; the hue corresponds to the\n",
        "angular coordinate and the saturation to the distance from the axis.\n",
        "See https://en.wikipedia.org/wiki/HSL_and_HSV for more details.\n",
        "\n",
        "The conversion from RGB to HSV can be done with the function `color.rgb2hsv` from skimage."
      ]
    },
    {
      "cell_type": "code",
      "execution_count": null,
      "metadata": {
        "id": "X2nFECMcxXpL"
      },
      "outputs": [],
      "source": [
        "...\n",
        "\n",
        "fig, axes = plt.subplots(nrows=1, ncols=3, figsize=(15, 10))\n",
        "\n",
        "axes[0].imshow(imhsv[:,:,0], cmap='hsv')\n",
        "axes[0].set_title('H')\n",
        "axes[1].imshow(imhsv[:,:,1], cmap='gray')\n",
        "axes[1].set_title('S')\n",
        "axes[2].imshow(imhsv[:,:,2], cmap='gray')\n",
        "axes[2].set_title('V')\n",
        "fig.tight_layout()"
      ]
    },
    {
      "cell_type": "markdown",
      "metadata": {
        "id": "fdtjjnDkfDk4"
      },
      "source": [
        "(Bonus Question, at home):\n",
        "Reconstruct and display the RGB image after the following transformations :\n",
        "- saturation reduction (apply an offset to the saturation channel)\n",
        "- rotation of the hue channel\n",
        "- Gamma transformation on the luminance\n",
        "($ x\\mapsto x^\\gamma $ with $\\gamma <1$)"
      ]
    },
    {
      "cell_type": "code",
      "execution_count": null,
      "metadata": {
        "id": "3MXnztAAfZAA"
      },
      "outputs": [],
      "source": [
        "def saturation_reduction(imhsv,alpha):\n",
        "  # alpha must be larger than one\n",
        "  res = imhsv.copy()\n",
        "  ...\n",
        "  return(res)\n",
        "\n",
        "def hue_rotation(imhsv,angle):\n",
        "  # angle must be in the [0,1] range\n",
        "  res = imhsv.copy()\n",
        "  ...\n",
        "  return(res)\n",
        "\n",
        "def gamma_transformation(imhsv,gamma):\n",
        "  # gamma must be in the ]0,1[ range\n",
        "  res = imhsv.copy()\n",
        "  ...\n",
        "  return(res)\n",
        "\n",
        "# try out different parameters\n",
        "img_saturation = skimage.color.hsv2rgb(saturation_reduction(imhsv,2))\n",
        "img_hue_r = skimage.color.hsv2rgb(hue_rotation(imhsv,0.1))\n",
        "img_gamma = skimage.color.hsv2rgb(gamma_transformation(imhsv,1/2.2))\n",
        "\n",
        "#visualization\n",
        "fig,axs = plt.subplots(1,3,figsize = (15,5))\n",
        "axs[0].imshow(img_saturation)\n",
        "axs[1].imshow(img_hue_r)\n",
        "axs[2].imshow(img_gamma)\n",
        "plt.show()"
      ]
    },
    {
      "cell_type": "markdown",
      "metadata": {
        "id": "-PubN1YaGCbf"
      },
      "source": [
        "## Segmentation of a graylevel image by Thresholding\n",
        "\n",
        "Classifying pixel in classes is known as segmentation, and is very important in many applications such as medical imaging analysis or self-driving cars. For example, know what a cell pixel or a background pixel looks like. For self-driving cars it is important to know what is a pedestrian and what is not a pedestrian.\n",
        "\n",
        "In this section we will separate pixels of a graylevel image in three classes using simple thresholding.\n",
        "\n",
        "You will define a segmentation `imgseg` that is an image with same size as `img` such that:\n",
        "- `imgseg` takes value $0$ where `img` takes values in $[0,t_1[$\n",
        "- `imgseg` takes value $0.5$ where `img` takes values in $[t_1,t_2[$\n",
        "- `imgseg` takes value $1$ where `img` takes values in $[t2,1]$"
      ]
    },
    {
      "cell_type": "code",
      "execution_count": null,
      "metadata": {
        "id": "dHhW_diOl_dE"
      },
      "outputs": [],
      "source": [
        "img=skio.imread('imagesTP3/cell.tif')\n",
        "img = np.array(img, dtype=np.float64) / 255\n",
        "\n",
        "...\n",
        "\n",
        "fig = plt.figure(figsize=(15, 7))\n",
        "axis = fig.add_subplot(1, 2, 1)\n",
        "axis.imshow(img,cmap='gray')\n",
        "axis.set_title('Original image')\n",
        "axis.axis('off')\n",
        "axis = fig.add_subplot(1, 2, 2)\n",
        "axis.imshow(imgseg,cmap='gray')\n",
        "axis.set_title('Segmented Image')\n",
        "axis.axis('off')\n",
        "plt.show()"
      ]
    },
    {
      "cell_type": "markdown",
      "metadata": {
        "id": "IzZLLNcTz4Kf"
      },
      "source": [
        "## (BONUS) Segmentation of a color image with K-means algorithm\n",
        "\n",
        "In this section we will use classification algorithms to quantize an image in a limited number of colors.\n",
        "We will now display the color distribution of an RGB image as a 3D point cloud. If the image is large, the point cloud will be too dense for vizualization. A solution is to subsample randomly this point cloud for vizualization."
      ]
    },
    {
      "cell_type": "code",
      "execution_count": null,
      "metadata": {
        "id": "5HELU90FzYKk"
      },
      "outputs": [],
      "source": [
        "imrgb =skio.imread(\"imagesTP3/fruits.tif\")\n",
        "fig = plt.figure(figsize=(15, 7))\n",
        "axis = fig.add_subplot(1, 2, 1)\n",
        "axis.imshow(imrgb)\n",
        "[nrow,ncol,nch]=imrgb.shape\n",
        "X = imrgb.reshape((nrow*ncol,3))\n",
        "nb = 3000\n",
        "idx = np.random.randint(X.shape[0], size=(nb,))\n",
        "Xs = X[idx, :]/255.\n",
        "print(Xs.shape)\n",
        "\n",
        "axis = fig.add_subplot(1, 2, 2, projection=\"3d\")\n",
        "\n",
        "axis.set_xlabel(\"Red\")\n",
        "axis.set_ylabel(\"Green\")\n",
        "axis.set_zlabel(\"Blue\")\n",
        "axis.scatter(Xs[:, 0], Xs[:,1],Xs[:, 2],c=Xs, s=40)\n",
        "plt.show()"
      ]
    },
    {
      "cell_type": "markdown",
      "metadata": {
        "id": "593ZYGxID0mf"
      },
      "source": [
        "In order to limit the size of an image for memory problems, one solution is to quantize the image, that is to limit the number of possible colors to a very limited number. In the following cell you will code a quantization algorithm based on Kmeans. Kmeans is an unsupervised learning algorithm, that clusters pointclouds together, based on their position in the color space.\n",
        "The algorithm is the following :\n",
        "- reshape the image into an array of shape (h*w,3)\n",
        "- train the Kmeans model of `scikit-learn` on a subset of the pixels\n",
        "- predict the labels of those pixels with `kmeans.predict` function\n",
        "- get the colors of the clusters using `kmeans.cluster_centers_`\n",
        "\n",
        "Once everything is done you can run the code and visualize the results.\n"
      ]
    },
    {
      "cell_type": "code",
      "execution_count": null,
      "metadata": {
        "id": "TquxDOvp0QDU"
      },
      "outputs": [],
      "source": [
        "k = 30 # number of classes\n",
        "def color_quantization_with_kmeans(imrgb,k):\n",
        "\n",
        "    ...\n",
        "\n",
        "    return(labels,colors)\n",
        "\n",
        "# Extract the labels and the values of the colors of each cluster\n",
        "labels,colors = color_quantization_with_kmeans(imrgb,30)\n",
        "print(labels.shape)\n",
        "print(colors.shape)\n",
        "\n",
        "\n",
        "# don't modify this code\n",
        "def visualize_quantization(shape,labels,colors):\n",
        "  new_image = np.zeros(shape)\n",
        "  label_matrix = labels.reshape(shape[0],shape[1])\n",
        "  for i in range(shape[0]):\n",
        "    for j in range(shape[1]):\n",
        "      new_image[i,j,:] = colors[label_matrix[i,j]]\n",
        "\n",
        "  # visualization\n",
        "  fig = plt.figure(figsize=(15, 7))\n",
        "  axis = fig.add_subplot(1, 2, 1)\n",
        "  axis.imshow(np.uint8(new_image))\n",
        "  [nrow,ncol,nch]=imrgb.shape\n",
        "  X = new_image.reshape((nrow*ncol,3))\n",
        "  nb = 3000\n",
        "  idx = np.random.randint(X.shape[0], size=(nb,))\n",
        "  Xs = X[idx, :]/255.\n",
        "\n",
        "  axis = fig.add_subplot(1, 2, 2, projection=\"3d\")\n",
        "\n",
        "  axis.set_xlabel(\"Red\")\n",
        "  axis.set_ylabel(\"Green\")\n",
        "  axis.set_zlabel(\"Blue\")\n",
        "  axis.scatter(Xs[:, 0], Xs[:,1],Xs[:, 2],c=Xs, s=40)\n",
        "  plt.show()\n",
        "\n",
        "# visualize the quantized image\n",
        "visualize_quantization(imrgb.shape,labels,colors)\n"
      ]
    }
  ],
  "metadata": {
    "colab": {
      "provenance": [],
      "toc_visible": true
    },
    "kernelspec": {
      "display_name": "Python 3 (ipykernel)",
      "language": "python",
      "name": "python3"
    },
    "language_info": {
      "codemirror_mode": {
        "name": "ipython",
        "version": 3
      },
      "file_extension": ".py",
      "mimetype": "text/x-python",
      "name": "python",
      "nbconvert_exporter": "python",
      "pygments_lexer": "ipython3",
      "version": "3.11.4"
    }
  },
  "nbformat": 4,
  "nbformat_minor": 0
}