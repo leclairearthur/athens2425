{
 "cells": [
  {
   "cell_type": "markdown",
   "metadata": {
    "id": "lkIDRvvr4LEJ"
   },
   "source": [
    "# Practical Work 2. Non-linear filtering with Mathematical Morphology\n",
    "\n",
    "The aim of this practical work is to get acquainted with mathematical morphology\n",
    "transformations. Applying different operations with several structuring elements on\n",
    "simple images will allow you understanding the actions, effects and properties of the\n",
    "operations, the role of the structuring element, as well as the need for appropriate\n",
    "pre-processing depending on the application at hand.\n",
    "\n",
    "In this session, we will mainly focus on functions from the skimage.morphology package."
   ]
  },
  {
   "cell_type": "code",
   "execution_count": null,
   "metadata": {
    "colab": {
     "base_uri": "https://localhost:8080/"
    },
    "executionInfo": {
     "elapsed": 3593,
     "status": "ok",
     "timestamp": 1731882105730,
     "user": {
      "displayName": "Emile Barbier Renard",
      "userId": "13210563749402347110"
     },
     "user_tz": -60
    },
    "id": "I8YgCEHj3zoA",
    "outputId": "c867b65a-02a2-4ccb-b129-6a53a3515434"
   },
   "outputs": [],
   "source": [
    "#Dowmloading images\n",
    "!wget https://perso.telecom-paristech.fr/aleclaire/athens/imagesTP2.zip\n",
    "!unzip -qq imagesTP2.zip\n",
    "!rm imagesTP2.zip"
   ]
  },
  {
   "cell_type": "code",
   "execution_count": null,
   "metadata": {
    "id": "leGrkj3u4yoW"
   },
   "outputs": [],
   "source": [
    "## imports\n",
    "import matplotlib.pyplot as plt\n",
    "import skimage.io as skio\n",
    "import skimage\n",
    "import numpy as np\n",
    "import skimage.morphology as morpho\n",
    "import skimage.segmentation as segmentation\n",
    "student = True"
   ]
  },
  {
   "cell_type": "markdown",
   "metadata": {
    "id": "W9JgHRXF5ihr"
   },
   "source": [
    "## Structuring element\n",
    "\n",
    "The basic idea in mathematical orphology is to probe an image with a simple, pre-defined shape, drawing conclusions on how this shape fits or misses the shapes in the image. This simple \"probe\" is called the structuring element. For example, it can take the shape of a square, a disk or a diamond, with a predefined radius.\n",
    "\n",
    "Use the functions of the morpho library to visualize a disk structuring element of radius 3."
   ]
  },
  {
   "cell_type": "code",
   "execution_count": null,
   "metadata": {
    "colab": {
     "base_uri": "https://localhost:8080/",
     "height": 552
    },
    "executionInfo": {
     "elapsed": 7,
     "status": "ok",
     "timestamp": 1731881859583,
     "user": {
      "displayName": "Emile Barbier Renard",
      "userId": "13210563749402347110"
     },
     "user_tz": -60
    },
    "id": "NzO3Q5i15I0g",
    "outputId": "a2e4f7bb-e81b-4297-8fad-4a67beb0cfbb"
   },
   "outputs": [],
   "source": [
    "strell = morpho.disk(3)\n",
    "\n",
    "print(strell)\n",
    "plt.imshow(strell)\n",
    "plt.show()"
   ]
  },
  {
   "cell_type": "markdown",
   "metadata": {
    "id": "ZUbKgKGMtqto"
   },
   "source": [
    "Find a way to create a vertical or horizontal line as a structuring element with parameter l :"
   ]
  },
  {
   "cell_type": "code",
   "execution_count": null,
   "metadata": {
    "colab": {
     "base_uri": "https://localhost:8080/",
     "height": 517
    },
    "executionInfo": {
     "elapsed": 560,
     "status": "ok",
     "timestamp": 1731881913396,
     "user": {
      "displayName": "Emile Barbier Renard",
      "userId": "13210563749402347110"
     },
     "user_tz": -60
    },
    "id": "VbTfMYFGt5Hn",
    "outputId": "69489e68-c769-4eed-f1a7-2b5ce77f8bb0"
   },
   "outputs": [],
   "source": [
    "def line_strell(l):\n",
    "  strell = ...\n",
    "  return strell\n",
    "strell_line = line_strell(...)\n",
    "plt.imshow(strell_line)\n",
    "plt.show()"
   ]
  },
  {
   "cell_type": "markdown",
   "metadata": {
    "id": "Jrovk0xz8T5q"
   },
   "source": [
    "## Binary Dilation and Erosion\n",
    "\n",
    "In this section, we will work on a cyto-image. Make sure to properly load the \"cell.tif\" image. Apply a thresholding of level t = 150 to that image to turn it into a binary image. Visualize the result in greyscale, by using the functions introduced in the first TP."
   ]
  },
  {
   "cell_type": "code",
   "execution_count": null,
   "metadata": {
    "colab": {
     "base_uri": "https://localhost:8080/",
     "height": 557
    },
    "executionInfo": {
     "elapsed": 812,
     "status": "ok",
     "timestamp": 1731882112910,
     "user": {
      "displayName": "Emile Barbier Renard",
      "userId": "13210563749402347110"
     },
     "user_tz": -60
    },
    "id": "0O4WdycqBfMh",
    "outputId": "5bb604ee-0bcf-4593-b496-849bcf7de2b4"
   },
   "outputs": [],
   "source": [
    "#load the cell image in grayscale and display it\n",
    "img = skio.imread(\"imagesTP2/cell.tif\")\n",
    "img = ...\n",
    "#display\n",
    "plt.imshow(img, cmap = \"gray\")\n",
    "plt.show()\n",
    "print(img)"
   ]
  },
  {
   "cell_type": "markdown",
   "metadata": {
    "id": "tqvddwvp15j5"
   },
   "source": [
    "We will first start by applying simple binary morphological operations on those images. You will try the following operations:\n",
    "- erosion\n",
    "- dilation\n",
    "- opening\n",
    "- closing\n",
    "\n",
    "You will try to visualize the results by varying the structuring element and its size.  "
   ]
  },
  {
   "cell_type": "code",
   "execution_count": null,
   "metadata": {
    "colab": {
     "base_uri": "https://localhost:8080/",
     "height": 1000
    },
    "executionInfo": {
     "elapsed": 4823,
     "status": "ok",
     "timestamp": 1731882127229,
     "user": {
      "displayName": "Emile Barbier Renard",
      "userId": "13210563749402347110"
     },
     "user_tz": -60
    },
    "id": "fDSmM0S5Gei5",
    "outputId": "667130c1-5f50-4850-8b0e-3e4fc1f82cc8"
   },
   "outputs": [],
   "source": [
    "# Example\n",
    "\n",
    "# try your own structuring elements and make the size vary\n",
    "strell = ...\n",
    "fig,ax = plt.subplots(2, 2, figsize=(20,20))\n",
    "imgs = [morpho.erosion(img,strell),morpho.dilation(img,strell),morpho.opening(img,strell),morpho.closing(img,strell)]\n",
    "names = [\"erosion\",\"dilation\",\"opening\",\"closing\"]\n",
    "for i in range(4):\n",
    "  ax[i//2,i%2].set_title(names[i])\n",
    "  ax[i//2,i%2].imshow(imgs[i],cmap = \"gray\")\n",
    "plt.show()"
   ]
  },
  {
   "cell_type": "markdown",
   "metadata": {
    "id": "L227C-NY-nip"
   },
   "source": [
    "- **Q** : What is the influence of the shape of the structuring element ?\n",
    "- **A** : ...\n",
    "- **Q** : What is the influence of the size of the structuring element ?\n",
    "- **A** : ..."
   ]
  },
  {
   "cell_type": "markdown",
   "metadata": {
    "id": "EhMEgY1j5KzE"
   },
   "source": [
    "## Greyscale Dilation and Erosion\n",
    "\n",
    "In this section, we will use the bateau.tif image. Make sure to load it and visualize it in greyscale.\n"
   ]
  },
  {
   "cell_type": "code",
   "execution_count": null,
   "metadata": {
    "colab": {
     "base_uri": "https://localhost:8080/",
     "height": 435
    },
    "executionInfo": {
     "elapsed": 1270,
     "status": "ok",
     "timestamp": 1731882516161,
     "user": {
      "displayName": "Emile Barbier Renard",
      "userId": "13210563749402347110"
     },
     "user_tz": -60
    },
    "id": "BXQwxY4IGqi9",
    "outputId": "43131e09-829a-4ae8-c41e-fe695944bda6"
   },
   "outputs": [],
   "source": [
    "#load the bateau image in grayscale and display it\n",
    "img = skio.imread(\"imagesTP2/bateau.tif\")\n",
    "#display\n",
    "plt.imshow(img, cmap = \"gray\")\n",
    "plt.show()"
   ]
  },
  {
   "cell_type": "markdown",
   "metadata": {
    "id": "32VKT3jr9XZW"
   },
   "source": [
    "Apply the same 4 operations as before (dilation,erosion,opening,closing) and visualize the results. Try out different structuring elements and different sizes."
   ]
  },
  {
   "cell_type": "code",
   "execution_count": null,
   "metadata": {
    "id": "gUkDrAzYVsZX"
   },
   "outputs": [],
   "source": [
    "..."
   ]
  },
  {
   "cell_type": "markdown",
   "metadata": {
    "id": "yJV4Q6tl-Sfd"
   },
   "source": [
    "- **Q** : What is the influence of the shape and size parameters of the structuring element ?\n",
    "- **A** : ...\n",
    "- **Q** : According to the iterativity property of the dilation, what is the expected result of a dilation by a structuring element of radius 1 followed by a dilation by a\n",
    "structuring element of radius 2 (and same shape) ? Illustrate this example in the following cell.\n",
    "- **A** : ..."
   ]
  },
  {
   "cell_type": "markdown",
   "metadata": {
    "id": "K8hm-1DkRJBd"
   },
   "source": [
    "Using a structuring element of radius 1 and a structuring element of radius 2 (and same shape), illustrate the iterativity property of the dilation."
   ]
  },
  {
   "cell_type": "code",
   "execution_count": null,
   "metadata": {
    "id": "5aFvRHZ8V2K-"
   },
   "outputs": [],
   "source": [
    "# illustrate iterativity here\n",
    "..."
   ]
  },
  {
   "cell_type": "markdown",
   "metadata": {
    "id": "N9VFQ1wIBAjv"
   },
   "source": [
    "- **Q:** According to the idempotence property of the opening, what is the result of an opening by a structuring element of radius 2 followed by an opening by a structuring element of identical radius (and same shape) ? Illustrate this example in the following cell.\n",
    "- **A:** ...\n"
   ]
  },
  {
   "cell_type": "code",
   "execution_count": null,
   "metadata": {
    "id": "QffSjvsdWA5L"
   },
   "outputs": [],
   "source": [
    "# illustrate idempotence here\n",
    "..."
   ]
  },
  {
   "cell_type": "markdown",
   "metadata": {
    "id": "kS8TmxvPLkK6"
   },
   "source": [
    "## Top-hat transform"
   ]
  },
  {
   "cell_type": "markdown",
   "metadata": {
    "id": "BR__7rlJE2Ti"
   },
   "source": [
    "- **Q** : Perform a top-hat transform in the following cell (difference between the image and its opening).\n",
    "Comment the result depending on the choice of the structuring element.\n",
    "- **A** : ..."
   ]
  },
  {
   "cell_type": "code",
   "execution_count": null,
   "metadata": {
    "colab": {
     "base_uri": "https://localhost:8080/",
     "height": 604
    },
    "executionInfo": {
     "elapsed": 1926,
     "status": "ok",
     "timestamp": 1731882548209,
     "user": {
      "displayName": "Emile Barbier Renard",
      "userId": "13210563749402347110"
     },
     "user_tz": -60
    },
    "id": "UmQ6RIwsWlmV",
    "outputId": "ba125e91-497c-4e61-f232-3791b5419715"
   },
   "outputs": [],
   "source": [
    "### start code\n",
    "strell = ...\n",
    "top_hat = ...\n",
    "plt.figure(figsize = (7,7))\n",
    "plt.imshow(top_hat,cmap = \"gray\")\n",
    "plt.show()"
   ]
  },
  {
   "cell_type": "markdown",
   "metadata": {
    "id": "gDivf--9uW9l"
   },
   "source": [
    "- **Q** : Perform a dual top-hat transform in the following cell (difference between the closing and the image).\n",
    "Comment the result depending on the choice of the structuring element.\n",
    "- **A** : ..."
   ]
  },
  {
   "cell_type": "code",
   "execution_count": null,
   "metadata": {
    "colab": {
     "base_uri": "https://localhost:8080/",
     "height": 604
    },
    "executionInfo": {
     "elapsed": 1398,
     "status": "ok",
     "timestamp": 1731600855980,
     "user": {
      "displayName": "Emile Barbier Renard",
      "userId": "13210563749402347110"
     },
     "user_tz": -60
    },
    "id": "nN-sZk4ausbi",
    "outputId": "228ea51d-26cb-4646-a3a1-bd5967cba5f5"
   },
   "outputs": [],
   "source": [
    "### start code\n",
    "strell = ...\n",
    "dual_top_hat = ...\n",
    "plt.figure(figsize = (7,7))\n",
    "plt.imshow(dual_top_hat,cmap = \"gray\")\n",
    "plt.show()"
   ]
  },
  {
   "cell_type": "markdown",
   "metadata": {
    "id": "0syGM6Pzt1Vs"
   },
   "source": [
    "## Morphological Gradient\n",
    "\n",
    "- **Q** : Apply a morphological gradient to the image cell.tif (difference between\n",
    "dilation and erosion with a structuring element of radius1). What do you observe ?\n",
    "\n",
    "- **A**: (code in the following cell) ..."
   ]
  },
  {
   "cell_type": "code",
   "execution_count": null,
   "metadata": {
    "colab": {
     "base_uri": "https://localhost:8080/",
     "height": 1000
    },
    "executionInfo": {
     "elapsed": 6202,
     "status": "ok",
     "timestamp": 1731882685876,
     "user": {
      "displayName": "Emile Barbier Renard",
      "userId": "13210563749402347110"
     },
     "user_tz": -60
    },
    "id": "euwzDm_xuGod",
    "outputId": "b2c97ade-8339-4767-d387-475bba4849a0"
   },
   "outputs": [],
   "source": [
    "img = skio.imread(\"imagesTP2/cell.tif\")\n",
    "strell = ...\n",
    "morpho_grad = ...\n",
    "plt.figure(figsize=(15,15))\n",
    "plt.imshow(morpho_grad,cmap = \"gray\")\n",
    "plt.show()\n"
   ]
  },
  {
   "cell_type": "markdown",
   "metadata": {
    "id": "6qEnOZ18uxgi"
   },
   "source": [
    "- **Q** : Try to threshold the gradient with a value of 25 for instance. Why is is difficult to find an appropriate threshold value ?\n",
    "- **A** : (code in the next cell) ..."
   ]
  },
  {
   "cell_type": "code",
   "execution_count": null,
   "metadata": {
    "colab": {
     "base_uri": "https://localhost:8080/",
     "height": 435
    },
    "executionInfo": {
     "elapsed": 1052,
     "status": "ok",
     "timestamp": 1731882751077,
     "user": {
      "displayName": "Emile Barbier Renard",
      "userId": "13210563749402347110"
     },
     "user_tz": -60
    },
    "id": "puMCfhFhunRC",
    "outputId": "f7558ee9-06bd-4d90-a79d-5fd84b6eceb2"
   },
   "outputs": [],
   "source": [
    "thresh_grad = ...\n",
    "plt.imshow(thresh_grad,cmap  =\"gray\")\n",
    "plt.show()"
   ]
  }
 ],
 "metadata": {
  "colab": {
   "provenance": [],
   "toc_visible": true
  },
  "kernelspec": {
   "display_name": "Python 3 (ipykernel)",
   "language": "python",
   "name": "python3"
  },
  "language_info": {
   "codemirror_mode": {
    "name": "ipython",
    "version": 3
   },
   "file_extension": ".py",
   "mimetype": "text/x-python",
   "name": "python",
   "nbconvert_exporter": "python",
   "pygments_lexer": "ipython3",
   "version": "3.11.4"
  }
 },
 "nbformat": 4,
 "nbformat_minor": 1
}
